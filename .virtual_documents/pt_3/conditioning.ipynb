library(dplyr)
library(ggplot2)
library(tidyverse)
library(broom)

options(repr.plot.width = 10, repr.plot.height = 10)


turnout_rating <- read.csv("../data/turnout_v_ratings.csv")
edu <- read.csv("../data/education.csv")


# make a function to select needed columns, rename them, and pivot them to rows
tidy_data <- function(data) {
    data %>%
    select(Rates, X1988, X1992, X1996, X2000, X2004, X2008, X2012, X2016) %>%
    rename("group" = Rates,"1988" = X1988,"1992" = X1992,"1996" = X1996,"2000" = X2000,"2004" = X2004,"2008" = X2008,"2012" = X2012,"2016" = X2016) %>%
    pivot_longer(!group, names_to = "election_year", values_to = "group_pct") %>%
    # Filter data to contain only rows describing the entire electorate
    filter(str_detect(group, "Share")) %>%
    # merge the data with the data about electoral turnout and competitiveness 
    merge(turnout_rating,by = "election_year")
}


merged_tidy_edu  <- tidy_data(edu) 


rank_data <- function(data) {
    data %>%
    group_by(election_year) %>%
    mutate(group_rank_per_election = rank(-group_pct)) %>%
    select(election_year, group, group_pct, group_rank_per_election, rating_std, turnout_scaled) %>%
    rename("competitiveness" = rating_std)
} 

ranked_edu <- rank_data(merged_tidy_edu)


# Visualize changes in education groups over the years
ranked_edu$election_year <- as.numeric(ranked_edu$election_year)

# Plot changes in rankings
edu_trends <- ggplot(ranked_edu, aes(x = election_year, y = group_rank_per_election, color = group)) +
  geom_line(linewidth = 1.5) +
  labs(title = "Trends in the Most Common Level of Education Attained by US Citizens", x = "Year", y = "Group Rank Per Election", color = "Education Levels:") +
  scale_y_continuous(breaks = c(1, 2, 3, 4),  # Specify the y-axis ticks
                     labels = c("Most Common", "Second", "Third", "Least Common")) + # Specify the labels for the ticks
  scale_color_discrete(labels = c("High School Grad", "Less Than High School", "Post-Grad", "Some College to College Grad")) +
  theme(
    text = element_text(size = 15),
    axis.text.x = element_text(angle = 45, hjust = 1, size =15),
    axis.title = element_text(face = "bold"),
    plot.title = element_text(hjust = 0.5),
    legend.position = "top",
    legend.justification = "centre"
  ) +
  scale_x_continuous(breaks = seq(1988, 2016, 4)) 

edu_trends


edu_model <- lm(competitiveness ~ turnout_scaled * group_pct, data=ranked_edu)
tidy(edu_model)
