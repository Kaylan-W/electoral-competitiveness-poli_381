{
 "cells": [
  {
   "cell_type": "markdown",
   "id": "48e8f974-926d-4278-8380-592cb78bc5d7",
   "metadata": {},
   "source": [
    "# POLI 381 Data Project 1: Description"
   ]
  },
  {
   "cell_type": "markdown",
   "id": "99205380-0a1f-4d5a-829e-bc6a838e6b91",
   "metadata": {},
   "source": [
    "## Are elections becoming more competitive or less competitive?\n",
    "\n",
    "1. Description: Conceptualize and measure electoral competitiveness. Find a data set that contains your measure of electoral competitiveness or the information necessary to construct that measure. Describe that measure using statistical and graphical methods. This involves noting the scope and coverage of your measure. For example, do you limit your sample to certain jurisdictions, time periods or electoral systems?\n",
    "\n",
    "2. Correlation: Correlate your measure of electoral competitiveness with electoral turnout. Is turnout higher at more competitive elections?\n",
    "\n",
    "--- \n",
    "\n",
    "Part one of the project was aimed at defining and measuring electoral competitiveness. Now that we have developed a means to do so and obtained results "
   ]
  },
  {
   "cell_type": "code",
   "execution_count": null,
   "id": "aac2122a-3e9c-48a0-b13c-d8607c178c97",
   "metadata": {},
   "outputs": [],
   "source": []
  }
 ],
 "metadata": {
  "kernelspec": {
   "display_name": "R",
   "language": "R",
   "name": "ir"
  },
  "language_info": {
   "codemirror_mode": "r",
   "file_extension": ".r",
   "mimetype": "text/x-r-source",
   "name": "R",
   "pygments_lexer": "r",
   "version": "4.3.2"
  }
 },
 "nbformat": 4,
 "nbformat_minor": 5
}
