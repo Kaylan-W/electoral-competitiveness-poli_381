{
 "cells": [
  {
   "cell_type": "code",
   "execution_count": 12,
   "id": "57e9e9cb-3154-469f-933f-0057a88cdebd",
   "metadata": {
    "collapsed": true,
    "jupyter": {
     "outputs_hidden": true
    }
   },
   "outputs": [
    {
     "name": "stderr",
     "output_type": "stream",
     "text": [
      "\n",
      "Attaching package: ‘dplyr’\n",
      "\n",
      "\n",
      "The following objects are masked from ‘package:stats’:\n",
      "\n",
      "    filter, lag\n",
      "\n",
      "\n",
      "The following objects are masked from ‘package:base’:\n",
      "\n",
      "    intersect, setdiff, setequal, union\n",
      "\n",
      "\n"
     ]
    }
   ],
   "source": [
    "library(dplyr)"
   ]
  },
  {
   "cell_type": "code",
   "execution_count": 16,
   "id": "5c03ba0e-724c-4df1-9af5-884217bc293b",
   "metadata": {
    "collapsed": true,
    "jupyter": {
     "outputs_hidden": true
    }
   },
   "outputs": [
    {
     "data": {
      "text/html": [
       "<table class=\"dataframe\">\n",
       "<caption>A data.frame: 6 × 16</caption>\n",
       "<thead>\n",
       "\t<tr><th></th><th scope=col>CAND_ID</th><th scope=col>CAND_NAME</th><th scope=col>PTY_CD</th><th scope=col>CAND_PTY_AFFILIATION</th><th scope=col>TTL_RECEIPTS</th><th scope=col>TRANS_FROM_AUTH</th><th scope=col>TTL_DISB</th><th scope=col>TRANS_TO_AUTH</th><th scope=col>COH_BOP</th><th scope=col>COH_COP</th><th scope=col>CAND_CONTRIB</th><th scope=col>CAND_LOANS</th><th scope=col>DEBTS_OWED_BY</th><th scope=col>TTL_INDIV_CONTRIB</th><th scope=col>OTHER_POL_CMTE_CONTRIB</th><th scope=col>POL_PTY_CONTRIB</th></tr>\n",
       "\t<tr><th></th><th scope=col>&lt;chr&gt;</th><th scope=col>&lt;chr&gt;</th><th scope=col>&lt;int&gt;</th><th scope=col>&lt;chr&gt;</th><th scope=col>&lt;dbl&gt;</th><th scope=col>&lt;dbl&gt;</th><th scope=col>&lt;dbl&gt;</th><th scope=col>&lt;dbl&gt;</th><th scope=col>&lt;dbl&gt;</th><th scope=col>&lt;dbl&gt;</th><th scope=col>&lt;dbl&gt;</th><th scope=col>&lt;dbl&gt;</th><th scope=col>&lt;dbl&gt;</th><th scope=col>&lt;dbl&gt;</th><th scope=col>&lt;dbl&gt;</th><th scope=col>&lt;dbl&gt;</th></tr>\n",
       "</thead>\n",
       "<tbody>\n",
       "\t<tr><th scope=row>1</th><td>H2AK00200</td><td>CONSTANT, CHRISTOPHER     </td><td>1</td><td>DEM</td><td>      0.00</td><td>    0.00</td><td>      0.00</td><td>0</td><td>     0.00</td><td>      0.00</td><td>   0.00</td><td>0</td><td>143180.1</td><td>      0.00</td><td>     0.0</td><td>   0.00</td></tr>\n",
       "\t<tr><th scope=row>2</th><td>H2AK01158</td><td>PELTOLA, MARY             </td><td>1</td><td>DEM</td><td>2912626.22</td><td>41500.00</td><td>1829139.84</td><td>0</td><td>691260.30</td><td>1774746.68</td><td>   0.00</td><td>0</td><td>     0.0</td><td>2111538.46</td><td>704798.2</td><td>1871.87</td></tr>\n",
       "\t<tr><th scope=row>3</th><td>H2AK00226</td><td>PALIN, SARAH              </td><td>2</td><td>REP</td><td>   3866.49</td><td>    0.00</td><td>  50246.07</td><td>0</td><td> 46379.58</td><td>      0.00</td><td>   0.00</td><td>0</td><td>     0.0</td><td>      0.00</td><td>     0.0</td><td>   0.00</td></tr>\n",
       "\t<tr><th scope=row>4</th><td>H2AK01083</td><td>BEGICH, NICHOLAS III      </td><td>2</td><td>REP</td><td> 392255.91</td><td>    0.00</td><td> 252609.96</td><td>0</td><td> 41233.99</td><td> 180879.94</td><td>  99.00</td><td>0</td><td>425000.0</td><td> 391696.90</td><td>     0.0</td><td>   0.00</td></tr>\n",
       "\t<tr><th scope=row>5</th><td>H4AK00156</td><td>DAHLSTROM, NANCY          </td><td>2</td><td>REP</td><td> 204302.93</td><td>22909.71</td><td>   3236.63</td><td>0</td><td>     0.00</td><td> 201066.30</td><td>   0.00</td><td>0</td><td>     0.0</td><td>  28918.22</td><td>152475.0</td><td>   0.00</td></tr>\n",
       "\t<tr><th scope=row>6</th><td>H4AL01255</td><td>HOLMES, THOMAS BETHUNE MR.</td><td>1</td><td>DEM</td><td>   4808.06</td><td>    0.00</td><td>   4191.99</td><td>0</td><td>     0.00</td><td>    616.07</td><td>4612.94</td><td>0</td><td>     0.0</td><td>    195.00</td><td>     0.0</td><td>   0.00</td></tr>\n",
       "</tbody>\n",
       "</table>\n"
      ],
      "text/latex": [
       "A data.frame: 6 × 16\n",
       "\\begin{tabular}{r|llllllllllllllll}\n",
       "  & CAND\\_ID & CAND\\_NAME & PTY\\_CD & CAND\\_PTY\\_AFFILIATION & TTL\\_RECEIPTS & TRANS\\_FROM\\_AUTH & TTL\\_DISB & TRANS\\_TO\\_AUTH & COH\\_BOP & COH\\_COP & CAND\\_CONTRIB & CAND\\_LOANS & DEBTS\\_OWED\\_BY & TTL\\_INDIV\\_CONTRIB & OTHER\\_POL\\_CMTE\\_CONTRIB & POL\\_PTY\\_CONTRIB\\\\\n",
       "  & <chr> & <chr> & <int> & <chr> & <dbl> & <dbl> & <dbl> & <dbl> & <dbl> & <dbl> & <dbl> & <dbl> & <dbl> & <dbl> & <dbl> & <dbl>\\\\\n",
       "\\hline\n",
       "\t1 & H2AK00200 & CONSTANT, CHRISTOPHER      & 1 & DEM &       0.00 &     0.00 &       0.00 & 0 &      0.00 &       0.00 &    0.00 & 0 & 143180.1 &       0.00 &      0.0 &    0.00\\\\\n",
       "\t2 & H2AK01158 & PELTOLA, MARY              & 1 & DEM & 2912626.22 & 41500.00 & 1829139.84 & 0 & 691260.30 & 1774746.68 &    0.00 & 0 &      0.0 & 2111538.46 & 704798.2 & 1871.87\\\\\n",
       "\t3 & H2AK00226 & PALIN, SARAH               & 2 & REP &    3866.49 &     0.00 &   50246.07 & 0 &  46379.58 &       0.00 &    0.00 & 0 &      0.0 &       0.00 &      0.0 &    0.00\\\\\n",
       "\t4 & H2AK01083 & BEGICH, NICHOLAS III       & 2 & REP &  392255.91 &     0.00 &  252609.96 & 0 &  41233.99 &  180879.94 &   99.00 & 0 & 425000.0 &  391696.90 &      0.0 &    0.00\\\\\n",
       "\t5 & H4AK00156 & DAHLSTROM, NANCY           & 2 & REP &  204302.93 & 22909.71 &    3236.63 & 0 &      0.00 &  201066.30 &    0.00 & 0 &      0.0 &   28918.22 & 152475.0 &    0.00\\\\\n",
       "\t6 & H4AL01255 & HOLMES, THOMAS BETHUNE MR. & 1 & DEM &    4808.06 &     0.00 &    4191.99 & 0 &      0.00 &     616.07 & 4612.94 & 0 &      0.0 &     195.00 &      0.0 &    0.00\\\\\n",
       "\\end{tabular}\n"
      ],
      "text/markdown": [
       "\n",
       "A data.frame: 6 × 16\n",
       "\n",
       "| <!--/--> | CAND_ID &lt;chr&gt; | CAND_NAME &lt;chr&gt; | PTY_CD &lt;int&gt; | CAND_PTY_AFFILIATION &lt;chr&gt; | TTL_RECEIPTS &lt;dbl&gt; | TRANS_FROM_AUTH &lt;dbl&gt; | TTL_DISB &lt;dbl&gt; | TRANS_TO_AUTH &lt;dbl&gt; | COH_BOP &lt;dbl&gt; | COH_COP &lt;dbl&gt; | CAND_CONTRIB &lt;dbl&gt; | CAND_LOANS &lt;dbl&gt; | DEBTS_OWED_BY &lt;dbl&gt; | TTL_INDIV_CONTRIB &lt;dbl&gt; | OTHER_POL_CMTE_CONTRIB &lt;dbl&gt; | POL_PTY_CONTRIB &lt;dbl&gt; |\n",
       "|---|---|---|---|---|---|---|---|---|---|---|---|---|---|---|---|---|\n",
       "| 1 | H2AK00200 | CONSTANT, CHRISTOPHER      | 1 | DEM |       0.00 |     0.00 |       0.00 | 0 |      0.00 |       0.00 |    0.00 | 0 | 143180.1 |       0.00 |      0.0 |    0.00 |\n",
       "| 2 | H2AK01158 | PELTOLA, MARY              | 1 | DEM | 2912626.22 | 41500.00 | 1829139.84 | 0 | 691260.30 | 1774746.68 |    0.00 | 0 |      0.0 | 2111538.46 | 704798.2 | 1871.87 |\n",
       "| 3 | H2AK00226 | PALIN, SARAH               | 2 | REP |    3866.49 |     0.00 |   50246.07 | 0 |  46379.58 |       0.00 |    0.00 | 0 |      0.0 |       0.00 |      0.0 |    0.00 |\n",
       "| 4 | H2AK01083 | BEGICH, NICHOLAS III       | 2 | REP |  392255.91 |     0.00 |  252609.96 | 0 |  41233.99 |  180879.94 |   99.00 | 0 | 425000.0 |  391696.90 |      0.0 |    0.00 |\n",
       "| 5 | H4AK00156 | DAHLSTROM, NANCY           | 2 | REP |  204302.93 | 22909.71 |    3236.63 | 0 |      0.00 |  201066.30 |    0.00 | 0 |      0.0 |   28918.22 | 152475.0 |    0.00 |\n",
       "| 6 | H4AL01255 | HOLMES, THOMAS BETHUNE MR. | 1 | DEM |    4808.06 |     0.00 |    4191.99 | 0 |      0.00 |     616.07 | 4612.94 | 0 |      0.0 |     195.00 |      0.0 |    0.00 |\n",
       "\n"
      ],
      "text/plain": [
       "  CAND_ID   CAND_NAME                  PTY_CD CAND_PTY_AFFILIATION TTL_RECEIPTS\n",
       "1 H2AK00200 CONSTANT, CHRISTOPHER      1      DEM                        0.00  \n",
       "2 H2AK01158 PELTOLA, MARY              1      DEM                  2912626.22  \n",
       "3 H2AK00226 PALIN, SARAH               2      REP                     3866.49  \n",
       "4 H2AK01083 BEGICH, NICHOLAS III       2      REP                   392255.91  \n",
       "5 H4AK00156 DAHLSTROM, NANCY           2      REP                   204302.93  \n",
       "6 H4AL01255 HOLMES, THOMAS BETHUNE MR. 1      DEM                     4808.06  \n",
       "  TRANS_FROM_AUTH TTL_DISB   TRANS_TO_AUTH COH_BOP   COH_COP    CAND_CONTRIB\n",
       "1     0.00              0.00 0                  0.00       0.00    0.00     \n",
       "2 41500.00        1829139.84 0             691260.30 1774746.68    0.00     \n",
       "3     0.00          50246.07 0              46379.58       0.00    0.00     \n",
       "4     0.00         252609.96 0              41233.99  180879.94   99.00     \n",
       "5 22909.71           3236.63 0                  0.00  201066.30    0.00     \n",
       "6     0.00           4191.99 0                  0.00     616.07 4612.94     \n",
       "  CAND_LOANS DEBTS_OWED_BY TTL_INDIV_CONTRIB OTHER_POL_CMTE_CONTRIB\n",
       "1 0          143180.1            0.00             0.0              \n",
       "2 0               0.0      2111538.46        704798.2              \n",
       "3 0               0.0            0.00             0.0              \n",
       "4 0          425000.0       391696.90             0.0              \n",
       "5 0               0.0        28918.22        152475.0              \n",
       "6 0               0.0          195.00             0.0              \n",
       "  POL_PTY_CONTRIB\n",
       "1    0.00        \n",
       "2 1871.87        \n",
       "3    0.00        \n",
       "4    0.00        \n",
       "5    0.00        \n",
       "6    0.00        "
      ]
     },
     "metadata": {},
     "output_type": "display_data"
    }
   ],
   "source": [
    "raw_campaign_finance <- read.table(\"campaign_finance.txt\", sep = \"|\", header = FALSE, na.strings = c(\"\", \"NA\"),fill = TRUE)\n",
    "\n",
    "# Assign column names  \n",
    "colnames(raw_campaign_finance) <- c(\"CAND_ID\", \"CAND_NAME\", \"CAND_ICI\",\"PTY_CD\",\"CAND_PTY_AFFILIATION\", \"TTL_RECEIPTS\", \"TRANS_FROM_AUTH\", \"TTL_DISB\", \n",
    "                        \"TRANS_TO_AUTH\", \"COH_BOP\", \"COH_COP\",\"CAND_CONTRIB\", \"CAND_LOANS\", \"OTHER_LOANS\", \"CAND_LOAN_REPAY\", \"OTHER_LOAN_REPAY\", \n",
    "                        \"DEBTS_OWED_BY\",\"TTL_INDIV_CONTRIB\", \"CAND_OFFICE_ST\", \"CAND_OFFICE_DISTRICT\", \"SPEC_ELECTION\", \"PRIM_ELECTION\", \"RUN_ELECTION\", \n",
    "                        \"GEN_ELECTION\", \"GEN_ELECTION_PRECENT\", \"OTHER_POL_CMTE_CONTRIB\", \"POL_PTY_CONTRIB\", \"CVG_END_DT\", \"INDIV_REFUNDS\", \"CMTE_REFUNDS\")\n",
    "\n",
    "# Select needed columns\n",
    "reduced_finance <- raw_campaign_finance |>\n",
    "                select(\"CAND_ID\",\"CAND_NAME\", \"PTY_CD\", \"CAND_PTY_AFFILIATION\", \"TTL_RECEIPTS\", \"TRANS_FROM_AUTH\", \"TTL_DISB\", \"TRANS_TO_AUTH\", \"COH_BOP\", \n",
    "                         \"COH_COP\",\"CAND_CONTRIB\", \"CAND_LOANS\", \"DEBTS_OWED_BY\", \"TTL_INDIV_CONTRIB\", \"OTHER_POL_CMTE_CONTRIB\", \"POL_PTY_CONTRIB\")\n",
    "\n",
    "head(reduced_finance)\n"
   ]
  },
  {
   "cell_type": "code",
   "execution_count": 20,
   "id": "a185571b-7e05-4d3d-a9ab-d196d03fe6f9",
   "metadata": {},
   "outputs": [
    {
     "data": {
      "text/html": [
       "<table class=\"dataframe\">\n",
       "<caption>A data.frame: 6 × 16</caption>\n",
       "<thead>\n",
       "\t<tr><th></th><th scope=col>CAND_ID</th><th scope=col>CAND_NAME</th><th scope=col>PTY_CD</th><th scope=col>CAND_PTY_AFFILIATION</th><th scope=col>TTL_RECEIPTS</th><th scope=col>TRANS_FROM_AUTH</th><th scope=col>TTL_DISB</th><th scope=col>TRANS_TO_AUTH</th><th scope=col>COH_BOP</th><th scope=col>COH_COP</th><th scope=col>CAND_CONTRIB</th><th scope=col>CAND_LOANS</th><th scope=col>DEBTS_OWED_BY</th><th scope=col>TTL_INDIV_CONTRIB</th><th scope=col>OTHER_POL_CMTE_CONTRIB</th><th scope=col>POL_PTY_CONTRIB</th></tr>\n",
       "\t<tr><th></th><th scope=col>&lt;chr&gt;</th><th scope=col>&lt;chr&gt;</th><th scope=col>&lt;int&gt;</th><th scope=col>&lt;chr&gt;</th><th scope=col>&lt;dbl&gt;</th><th scope=col>&lt;dbl&gt;</th><th scope=col>&lt;dbl&gt;</th><th scope=col>&lt;dbl&gt;</th><th scope=col>&lt;dbl&gt;</th><th scope=col>&lt;dbl&gt;</th><th scope=col>&lt;dbl&gt;</th><th scope=col>&lt;dbl&gt;</th><th scope=col>&lt;dbl&gt;</th><th scope=col>&lt;dbl&gt;</th><th scope=col>&lt;dbl&gt;</th><th scope=col>&lt;dbl&gt;</th></tr>\n",
       "</thead>\n",
       "<tbody>\n",
       "\t<tr><th scope=row>1</th><td>H2AK00200</td><td>CONSTANT, CHRISTOPHER     </td><td>1</td><td>DEM</td><td>      0.00</td><td>    0.00</td><td>      0.00</td><td>0</td><td>     0.00</td><td>      0.00</td><td>   0.00</td><td>0</td><td>143180.1</td><td>      0.00</td><td>     0.0</td><td>   0.00</td></tr>\n",
       "\t<tr><th scope=row>2</th><td>H2AK01158</td><td>PELTOLA, MARY             </td><td>1</td><td>DEM</td><td>2912626.22</td><td>41500.00</td><td>1829139.84</td><td>0</td><td>691260.30</td><td>1774746.68</td><td>   0.00</td><td>0</td><td>     0.0</td><td>2111538.46</td><td>704798.2</td><td>1871.87</td></tr>\n",
       "\t<tr><th scope=row>3</th><td>H2AK00226</td><td>PALIN, SARAH              </td><td>2</td><td>REP</td><td>   3866.49</td><td>    0.00</td><td>  50246.07</td><td>0</td><td> 46379.58</td><td>      0.00</td><td>   0.00</td><td>0</td><td>     0.0</td><td>      0.00</td><td>     0.0</td><td>   0.00</td></tr>\n",
       "\t<tr><th scope=row>4</th><td>H2AK01083</td><td>BEGICH, NICHOLAS III      </td><td>2</td><td>REP</td><td> 392255.91</td><td>    0.00</td><td> 252609.96</td><td>0</td><td> 41233.99</td><td> 180879.94</td><td>  99.00</td><td>0</td><td>425000.0</td><td> 391696.90</td><td>     0.0</td><td>   0.00</td></tr>\n",
       "\t<tr><th scope=row>5</th><td>H4AK00156</td><td>DAHLSTROM, NANCY          </td><td>2</td><td>REP</td><td> 204302.93</td><td>22909.71</td><td>   3236.63</td><td>0</td><td>     0.00</td><td> 201066.30</td><td>   0.00</td><td>0</td><td>     0.0</td><td>  28918.22</td><td>152475.0</td><td>   0.00</td></tr>\n",
       "\t<tr><th scope=row>6</th><td>H4AL01255</td><td>HOLMES, THOMAS BETHUNE MR.</td><td>1</td><td>DEM</td><td>   4808.06</td><td>    0.00</td><td>   4191.99</td><td>0</td><td>     0.00</td><td>    616.07</td><td>4612.94</td><td>0</td><td>     0.0</td><td>    195.00</td><td>     0.0</td><td>   0.00</td></tr>\n",
       "</tbody>\n",
       "</table>\n"
      ],
      "text/latex": [
       "A data.frame: 6 × 16\n",
       "\\begin{tabular}{r|llllllllllllllll}\n",
       "  & CAND\\_ID & CAND\\_NAME & PTY\\_CD & CAND\\_PTY\\_AFFILIATION & TTL\\_RECEIPTS & TRANS\\_FROM\\_AUTH & TTL\\_DISB & TRANS\\_TO\\_AUTH & COH\\_BOP & COH\\_COP & CAND\\_CONTRIB & CAND\\_LOANS & DEBTS\\_OWED\\_BY & TTL\\_INDIV\\_CONTRIB & OTHER\\_POL\\_CMTE\\_CONTRIB & POL\\_PTY\\_CONTRIB\\\\\n",
       "  & <chr> & <chr> & <int> & <chr> & <dbl> & <dbl> & <dbl> & <dbl> & <dbl> & <dbl> & <dbl> & <dbl> & <dbl> & <dbl> & <dbl> & <dbl>\\\\\n",
       "\\hline\n",
       "\t1 & H2AK00200 & CONSTANT, CHRISTOPHER      & 1 & DEM &       0.00 &     0.00 &       0.00 & 0 &      0.00 &       0.00 &    0.00 & 0 & 143180.1 &       0.00 &      0.0 &    0.00\\\\\n",
       "\t2 & H2AK01158 & PELTOLA, MARY              & 1 & DEM & 2912626.22 & 41500.00 & 1829139.84 & 0 & 691260.30 & 1774746.68 &    0.00 & 0 &      0.0 & 2111538.46 & 704798.2 & 1871.87\\\\\n",
       "\t3 & H2AK00226 & PALIN, SARAH               & 2 & REP &    3866.49 &     0.00 &   50246.07 & 0 &  46379.58 &       0.00 &    0.00 & 0 &      0.0 &       0.00 &      0.0 &    0.00\\\\\n",
       "\t4 & H2AK01083 & BEGICH, NICHOLAS III       & 2 & REP &  392255.91 &     0.00 &  252609.96 & 0 &  41233.99 &  180879.94 &   99.00 & 0 & 425000.0 &  391696.90 &      0.0 &    0.00\\\\\n",
       "\t5 & H4AK00156 & DAHLSTROM, NANCY           & 2 & REP &  204302.93 & 22909.71 &    3236.63 & 0 &      0.00 &  201066.30 &    0.00 & 0 &      0.0 &   28918.22 & 152475.0 &    0.00\\\\\n",
       "\t6 & H4AL01255 & HOLMES, THOMAS BETHUNE MR. & 1 & DEM &    4808.06 &     0.00 &    4191.99 & 0 &      0.00 &     616.07 & 4612.94 & 0 &      0.0 &     195.00 &      0.0 &    0.00\\\\\n",
       "\\end{tabular}\n"
      ],
      "text/markdown": [
       "\n",
       "A data.frame: 6 × 16\n",
       "\n",
       "| <!--/--> | CAND_ID &lt;chr&gt; | CAND_NAME &lt;chr&gt; | PTY_CD &lt;int&gt; | CAND_PTY_AFFILIATION &lt;chr&gt; | TTL_RECEIPTS &lt;dbl&gt; | TRANS_FROM_AUTH &lt;dbl&gt; | TTL_DISB &lt;dbl&gt; | TRANS_TO_AUTH &lt;dbl&gt; | COH_BOP &lt;dbl&gt; | COH_COP &lt;dbl&gt; | CAND_CONTRIB &lt;dbl&gt; | CAND_LOANS &lt;dbl&gt; | DEBTS_OWED_BY &lt;dbl&gt; | TTL_INDIV_CONTRIB &lt;dbl&gt; | OTHER_POL_CMTE_CONTRIB &lt;dbl&gt; | POL_PTY_CONTRIB &lt;dbl&gt; |\n",
       "|---|---|---|---|---|---|---|---|---|---|---|---|---|---|---|---|---|\n",
       "| 1 | H2AK00200 | CONSTANT, CHRISTOPHER      | 1 | DEM |       0.00 |     0.00 |       0.00 | 0 |      0.00 |       0.00 |    0.00 | 0 | 143180.1 |       0.00 |      0.0 |    0.00 |\n",
       "| 2 | H2AK01158 | PELTOLA, MARY              | 1 | DEM | 2912626.22 | 41500.00 | 1829139.84 | 0 | 691260.30 | 1774746.68 |    0.00 | 0 |      0.0 | 2111538.46 | 704798.2 | 1871.87 |\n",
       "| 3 | H2AK00226 | PALIN, SARAH               | 2 | REP |    3866.49 |     0.00 |   50246.07 | 0 |  46379.58 |       0.00 |    0.00 | 0 |      0.0 |       0.00 |      0.0 |    0.00 |\n",
       "| 4 | H2AK01083 | BEGICH, NICHOLAS III       | 2 | REP |  392255.91 |     0.00 |  252609.96 | 0 |  41233.99 |  180879.94 |   99.00 | 0 | 425000.0 |  391696.90 |      0.0 |    0.00 |\n",
       "| 5 | H4AK00156 | DAHLSTROM, NANCY           | 2 | REP |  204302.93 | 22909.71 |    3236.63 | 0 |      0.00 |  201066.30 |    0.00 | 0 |      0.0 |   28918.22 | 152475.0 |    0.00 |\n",
       "| 6 | H4AL01255 | HOLMES, THOMAS BETHUNE MR. | 1 | DEM |    4808.06 |     0.00 |    4191.99 | 0 |      0.00 |     616.07 | 4612.94 | 0 |      0.0 |     195.00 |      0.0 |    0.00 |\n",
       "\n"
      ],
      "text/plain": [
       "  CAND_ID   CAND_NAME                  PTY_CD CAND_PTY_AFFILIATION TTL_RECEIPTS\n",
       "1 H2AK00200 CONSTANT, CHRISTOPHER      1      DEM                        0.00  \n",
       "2 H2AK01158 PELTOLA, MARY              1      DEM                  2912626.22  \n",
       "3 H2AK00226 PALIN, SARAH               2      REP                     3866.49  \n",
       "4 H2AK01083 BEGICH, NICHOLAS III       2      REP                   392255.91  \n",
       "5 H4AK00156 DAHLSTROM, NANCY           2      REP                   204302.93  \n",
       "6 H4AL01255 HOLMES, THOMAS BETHUNE MR. 1      DEM                     4808.06  \n",
       "  TRANS_FROM_AUTH TTL_DISB   TRANS_TO_AUTH COH_BOP   COH_COP    CAND_CONTRIB\n",
       "1     0.00              0.00 0                  0.00       0.00    0.00     \n",
       "2 41500.00        1829139.84 0             691260.30 1774746.68    0.00     \n",
       "3     0.00          50246.07 0              46379.58       0.00    0.00     \n",
       "4     0.00         252609.96 0              41233.99  180879.94   99.00     \n",
       "5 22909.71           3236.63 0                  0.00  201066.30    0.00     \n",
       "6     0.00           4191.99 0                  0.00     616.07 4612.94     \n",
       "  CAND_LOANS DEBTS_OWED_BY TTL_INDIV_CONTRIB OTHER_POL_CMTE_CONTRIB\n",
       "1 0          143180.1            0.00             0.0              \n",
       "2 0               0.0      2111538.46        704798.2              \n",
       "3 0               0.0            0.00             0.0              \n",
       "4 0          425000.0       391696.90             0.0              \n",
       "5 0               0.0        28918.22        152475.0              \n",
       "6 0               0.0          195.00             0.0              \n",
       "  POL_PTY_CONTRIB\n",
       "1    0.00        \n",
       "2 1871.87        \n",
       "3    0.00        \n",
       "4    0.00        \n",
       "5    0.00        \n",
       "6    0.00        "
      ]
     },
     "metadata": {},
     "output_type": "display_data"
    }
   ],
   "source": [
    "# Check for missing values\n",
    "na_rows <- reduced_finance %>%\n",
    "  filter(rowSums(is.na(.)) > 0)\n",
    "# na_rows\n",
    "\n",
    "# Drop the one row with NA data\n",
    "filtered_finance <- reduced_finance %>%\n",
    "    filter(!is.na(PTY_CD)) \n",
    "head(filtered_finance)"
   ]
  },
  {
   "cell_type": "code",
   "execution_count": null,
   "id": "61f0d86f-8ed5-4b26-bb05-786ea7a40b6b",
   "metadata": {},
   "outputs": [],
   "source": []
  }
 ],
 "metadata": {
  "kernelspec": {
   "display_name": "R",
   "language": "R",
   "name": "ir"
  },
  "language_info": {
   "codemirror_mode": "r",
   "file_extension": ".r",
   "mimetype": "text/x-r-source",
   "name": "R",
   "pygments_lexer": "r",
   "version": "4.3.3"
  }
 },
 "nbformat": 4,
 "nbformat_minor": 5
}
