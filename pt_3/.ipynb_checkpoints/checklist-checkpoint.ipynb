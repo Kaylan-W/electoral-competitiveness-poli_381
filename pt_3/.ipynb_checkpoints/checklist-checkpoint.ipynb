{
 "cells": [
  {
   "cell_type": "markdown",
   "id": "7e2594fc-8115-4812-923e-9e956a1ff03c",
   "metadata": {},
   "source": [
    "Conditioning: Condition the relationship between competitiveness and turnout on a third variable, e.g., the electoral system, nature of the election (legislative, presidential, etc.), or even the weather. Does the relationship between competitiveness and turnout appear to be independent of your controlling variable?\n",
    "\n",
    "\n",
    "Data\n",
    "- [ ] Has the student merged two or more existing data sets?\n",
    "- [ ] Has the student collected original data or developed an innovative measure from existing data?\n",
    "\n",
    "Statistical Narrative\n",
    "- [ ] Is the narrative complete, with a clear introduction, explanation of data and visuals, and conclusions.\n",
    "- [ ] Is the narrative coherent in that the there is a logical connection between theory, concept, measure, and tests?\n",
    "- [ ] Is the narrative concise, with tangential material appropriately relegated to footnotes and appendices, and verbiage kept to the necessary minimum?\n",
    "\n",
    "Effective use of data visuals / class concepts\n",
    "- [ ] Does the student condition a bivariate relationship on a third variable? This is a vital aspect of Part C\n",
    "- [ ] Does the student effectively employ class concepts? This means moving beyond the histogram and scatterplot.\n",
    "- [ ] Is there attention to detail?\n",
    "\n",
    "Documentation\n",
    "- [ ] Are data sets that the student employed cited?\n",
    "- [ ] Are replication materials provided or linked?\n"
   ]
  }
 ],
 "metadata": {
  "kernelspec": {
   "display_name": "Python 3 (ipykernel)",
   "language": "python",
   "name": "python3"
  },
  "language_info": {
   "codemirror_mode": {
    "name": "ipython",
    "version": 3
   },
   "file_extension": ".py",
   "mimetype": "text/x-python",
   "name": "python",
   "nbconvert_exporter": "python",
   "pygments_lexer": "ipython3",
   "version": "3.12.2"
  }
 },
 "nbformat": 4,
 "nbformat_minor": 5
}
